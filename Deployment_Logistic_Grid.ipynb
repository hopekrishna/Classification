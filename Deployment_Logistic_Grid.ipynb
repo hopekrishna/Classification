{
 "cells": [
  {
   "cell_type": "code",
   "execution_count": 1,
   "id": "ae1a71cc",
   "metadata": {},
   "outputs": [],
   "source": [
    "import pickle\n",
    "loaded_model=pickle.load(open(\"finalized_model_logistic_grid.sav\",'rb'))\n",
    "result=loaded_model.predict([[56,89,4,1,180,78,8,167,8,20,0,1,1,1,1,1,1,0,0,1,56,90,8,0,1,0,1]])\n"
   ]
  },
  {
   "cell_type": "code",
   "execution_count": 2,
   "id": "9834ee4c",
   "metadata": {},
   "outputs": [
    {
     "data": {
      "text/plain": [
       "array([1])"
      ]
     },
     "execution_count": 2,
     "metadata": {},
     "output_type": "execute_result"
    }
   ],
   "source": [
    "result"
   ]
  },
  {
   "cell_type": "code",
   "execution_count": null,
   "id": "dbd2a22f",
   "metadata": {},
   "outputs": [],
   "source": []
  }
 ],
 "metadata": {
  "kernelspec": {
   "display_name": "Python 3 (ipykernel)",
   "language": "python",
   "name": "python3"
  },
  "language_info": {
   "codemirror_mode": {
    "name": "ipython",
    "version": 3
   },
   "file_extension": ".py",
   "mimetype": "text/x-python",
   "name": "python",
   "nbconvert_exporter": "python",
   "pygments_lexer": "ipython3",
   "version": "3.11.5"
  }
 },
 "nbformat": 4,
 "nbformat_minor": 5
}
